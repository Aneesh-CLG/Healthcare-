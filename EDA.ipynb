import numpy as np
import pandas as pd
import matplotlib.pyplot as plt
import seaborn as sns

data = pd.read_csv("diabetes.csv")


data.head(5)


data.describe()


data.info()


data.dtypes


data.shape


data.isnull().sum()


data.columns


data['Pregnancies'].mean()


data['Age'].median()


data.drop(['Glucose'], axis=1)


from sklearn import preprocessing
label_encoder = preprocessing.LabelEncoder()
data['Insulin'] = label_encoder.fit_transform(data['Insulin'])
data['Insulin'].unique()
data.head(6)


sns.pairplot(data)


sns.boxplot(data['DiabetesPedigreeFunction'])
plt.title('DiabetesPedigreeFunction')
plt.show()


hist= plt.hist(data['BMI'], bins=10)
plt.title('BMI')
plt.show()


corr = data.corr()
sns.heatmap(corr)


import matplotlib.pyplot as plt

# Scatter plot for Age vs BMI
plt.scatter(data['Age'], data['BMI'], marker='o')
plt.title('Age vs BMI')
plt.xlabel('Age')
plt.ylabel('BMI')
plt.show()



sns.boxplot(data['Age'])
plt.title('Age')
plt.show()


sns.boxplot(data['Pregnancies'])
plt.title('Pregnancies')
plt.show()


sns.boxplot(data['BMI'])
plt.title('BMI')
plt.show()


sns.boxplot(data['Glucose'])
plt.title('Glucose')
plt.show()


sns.boxplot(data['Insulin'])
plt.title('Insulin')
plt.show()


sns.boxplot(data['SkinThickness'])
plt.title('SkinThickness')
plt.show()


sns.boxplot(data['BloodPressure'])
plt.title('BloodPressure')
plt.show()


plt.hist(data['Pregnancies'], bins=10)
plt.title('Pregnancies')
plt.show()


plt.hist(data['Age'], bins=10)
plt.title('Age')
plt.show()


plt.hist(data['Insulin'], bins=10)
plt.title('Insulin')
plt.show()


plt.hist(data['Glucose'], bins=10)
plt.title('Glucose')
plt.show()


plt.hist(data['BloodPressure'], bins=10)
plt.title('BloodPressure')
plt.show()


plt.hist(data['SkinThickness'], bins=10)
plt.title('SkinThickness')
plt.show()


plt.hist(data['DiabetesPedigreeFunction'], bins=10)
plt.title('DiabetesPedigreeFunction')
plt.show()



