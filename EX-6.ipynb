{
 "cells": [
  {
   "cell_type": "code",
   "execution_count": 8,
   "id": "f6cafe6c-42aa-4789-b2de-a39b1b6c2d7c",
   "metadata": {},
   "outputs": [
    {
     "name": "stdout",
     "output_type": "stream",
     "text": [
      "\n",
      "--- Rule-Based Extraction ---\n",
      "Extracted: Diabetes\n",
      "Extracted: Hypertension\n",
      "Extracted: Asthma with mild wheezing\n",
      "Extracted: No disease\n",
      "Extracted: High Blood Pressure detected\n",
      "Extracted: Gastritis\n",
      "\n",
      "--- Pattern-Based Extraction ---\n",
      "Pattern Matches: ['Diabetes Severe headache and fatigue', 'Hypertension Diagnosis', 'No disease Diagnosis', 'Gastritis']\n",
      "\n",
      "--- Model Accuracy ---\n",
      "Naive Bayes Accuracy: 0.0\n",
      "SVM Accuracy: 0.0\n",
      "Random Forest Accuracy: 0.0\n"
     ]
    },
    {
     "name": "stderr",
     "output_type": "stream",
     "text": [
      "C:\\Users\\Aneesh Mada\\AppData\\Local\\Temp\\ipykernel_38504\\121743353.py:78: FutureWarning: \n",
      "\n",
      "Passing `palette` without assigning `hue` is deprecated and will be removed in v0.14.0. Assign the `x` variable to `hue` and set `legend=False` for the same effect.\n",
      "\n",
      "  sns.barplot(x=model_names, y=accuracies, palette='pastel')\n"
     ]
    },
    {
     "data": {
      "image/png": "[encoded data removed]",
      "text/plain": [
       "<Figure size 800x500 with 1 Axes>"
      ]
     },
     "metadata": {},
     "output_type": "display_data"
    }
   ],
   "source": [
    "# Import Libraries\n",
    "import re\n",
    "import pandas as pd\n",
    "import matplotlib.pyplot as plt\n",
    "import seaborn as sns\n",
    "from sklearn.feature_extraction.text import CountVectorizer\n",
    "from sklearn.model_selection import train_test_split\n",
    "from sklearn.naive_bayes import MultinomialNB\n",
    "from sklearn.ensemble import RandomForestClassifier\n",
    "from sklearn.svm import SVC\n",
    "from sklearn.metrics import accuracy_score\n",
    "\n",
    "# Sample Clinical Text Data\n",
    "data = {\n",
    "    \"text\": [\n",
    "        \"Patient shows symptoms. Diagnosis: Diabetes\",\n",
    "        \"Severe headache and fatigue. Diagnosis: Hypertension\",\n",
    "        \"Diagnosis: Asthma with mild wheezing\",\n",
    "        \"Normal vitals observed. Diagnosis: No disease\",\n",
    "        \"Diagnosis: High Blood Pressure detected\",\n",
    "        \"Fatigue and vomiting. Diagnosis: Gastritis\"\n",
    "    ],\n",
    "    \"label\": [\"Diabetes\", \"Hypertension\", \"Asthma\", \"No disease\", \"High Blood Pressure\", \"Gastritis\"]\n",
    "}\n",
    "df = pd.DataFrame(data)\n",
    "\n",
    "# --- Rule-Based Extraction ---\n",
    "print(\"\\n--- Rule-Based Extraction ---\")\n",
    "for text in df[\"text\"]:\n",
    "    match = re.search(r\"Diagnosis: ([\\w\\s]+)\", text)\n",
    "    if match:\n",
    "        print(f\"Extracted: {match.group(1)}\")\n",
    "\n",
    "# --- Pattern-Based Extraction ---\n",
    "print(\"\\n--- Pattern-Based Extraction ---\")\n",
    "pattern_results = re.findall(r\"Diagnosis: ([\\w\\s]+)\", \" \".join(df[\"text\"]))\n",
    "print(\"Pattern Matches:\", pattern_results)\n",
    "\n",
    "# --- Machine Learning-Based Extraction ---\n",
    "\n",
    "# Text Vectorization\n",
    "vectorizer = CountVectorizer()\n",
    "X = vectorizer.fit_transform(df[\"text\"])\n",
    "y = df[\"label\"]\n",
    "\n",
    "# Split into Train-Test\n",
    "X_train, X_test, y_train, y_test = train_test_split(X, y, test_size=0.5, random_state=42)\n",
    "\n",
    "# Naive Bayes Classifier\n",
    "nb_model = MultinomialNB()\n",
    "nb_model.fit(X_train, y_train)\n",
    "y_pred_nb = nb_model.predict(X_test)\n",
    "acc_nb = accuracy_score(y_test, y_pred_nb)\n",
    "\n",
    "# SVM Classifier\n",
    "svm_model = SVC()\n",
    "svm_model.fit(X_train, y_train)\n",
    "y_pred_svm = svm_model.predict(X_test)\n",
    "acc_svm = accuracy_score(y_test, y_pred_svm)\n",
    "\n",
    "# Random Forest Classifier\n",
    "rf_model = RandomForestClassifier()\n",
    "rf_model.fit(X_train, y_train)\n",
    "y_pred_rf = rf_model.predict(X_test)\n",
    "acc_rf = accuracy_score(y_test, y_pred_rf)\n",
    "\n",
    "# Print Accuracy Scores\n",
    "print(\"\\n--- Model Accuracy ---\")\n",
    "print(\"Naive Bayes Accuracy:\", acc_nb)\n",
    "print(\"SVM Accuracy:\", acc_svm)\n",
    "print(\"Random Forest Accuracy:\", acc_rf)\n",
    "\n",
    "# --- Plot Accuracy Comparison ---\n",
    "model_names = [\"Naive Bayes\", \"SVM\", \"Random Forest\"]\n",
    "accuracies = [acc_nb, acc_svm, acc_rf]\n",
    "\n",
    "plt.figure(figsize=(8, 5))\n",
    "sns.barplot(x=model_names, y=accuracies, palette='pastel')\n",
    "plt.ylim(0, 1)\n",
    "plt.ylabel(\"Accuracy\")\n",
    "plt.title(\"Model Accuracy Comparison\")\n",
    "for i, acc in enumerate(accuracies):\n",
    "    plt.text(i, acc + 0.02, f\"{acc:.2f}\", ha='center', fontsize=12)\n",
    "plt.grid(True, axis='y')\n",
    "plt.show()\n"
   ]
  },
  {
   "cell_type": "code",
   "execution_count": null,
   "id": "500d0937-522c-4b10-8ef3-1392146930ff",
   "metadata": {},
   "outputs": [],
   "source": []
  }
 ],
 "metadata": {
  "kernelspec": {
   "display_name": "Python 3 (ipykernel)",
   "language": "python",
   "name": "python3"
  },
  "language_info": {
   "codemirror_mode": {
    "name": "ipython",
    "version": 3
   },
   "file_extension": ".py",
   "mimetype": "text/x-python",
   "name": "python",
   "nbconvert_exporter": "python",
   "pygments_lexer": "ipython3",
   "version": "3.11.7"
  }
 },
 "nbformat": 4,
 "nbformat_minor": 5
}
